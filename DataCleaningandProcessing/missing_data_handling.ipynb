{
 "cells": [
  {
   "cell_type": "code",
   "execution_count": null,
   "metadata": {},
   "outputs": [],
   "source": [
    "import pandas as pd\n",
    "import seaborn as sns\n",
    "import matplotlib.pyplot as plt\n",
    "\n",
    "df = pd.read_csv(\"data/test.csv\")\n",
    "df.dropna()\n",
    "print(df.info())\n",
    "print(df.describe())\n",
    "\n",
    "plt.figure(figsize=(10, 6))\n",
    "sns.heatmap(df.isnull(), cbar=False, cmap='viridis')\n",
    "plt.title('Missing Values Before Cleaning')\n",
    "plt.show()\n",
    "\n",
    "\n",
    "df1 = df.copy()\n",
    "\n",
    "df1['Age'].fillna(df1['Age'].median(), inplace=True)\n",
    "# df1['Embarked'].fillna(df1['Embarked'].mode()[0], inplace=False)\n",
    "\n",
    "plt.figure(figsize=(10, 6))\n",
    "sns.heatmap(df1.isnull(), cbar=False, cmap='viridis')\n",
    "plt.title('Missing Values After Cleaning')\n",
    "plt.show()"
   ]
  }
 ],
 "metadata": {
  "kernelspec": {
   "display_name": ".venv",
   "language": "python",
   "name": "python3"
  },
  "language_info": {
   "codemirror_mode": {
    "name": "ipython",
    "version": 3
   },
   "file_extension": ".py",
   "mimetype": "text/x-python",
   "name": "python",
   "nbconvert_exporter": "python",
   "pygments_lexer": "ipython3",
   "version": "3.12.0"
  }
 },
 "nbformat": 4,
 "nbformat_minor": 2
}
